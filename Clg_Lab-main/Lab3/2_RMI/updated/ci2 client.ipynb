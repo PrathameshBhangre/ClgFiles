{
 "cells": [
  {
   "cell_type": "code",
   "execution_count": 1,
   "metadata": {},
   "outputs": [
    {
     "name": "stdout",
     "output_type": "stream",
     "text": [
      "Requirement already satisfied: pyro4 in c:\\downloads\\python\\lib\\site-packages (4.82)\n",
      "Requirement already satisfied: serpent>=1.27 in c:\\downloads\\python\\lib\\site-packages (from pyro4) (1.41)\n",
      "Note: you may need to restart the kernel to use updated packages.\n"
     ]
    }
   ],
   "source": [
    "pip install pyro4"
   ]
  },
  {
   "cell_type": "code",
   "execution_count": 2,
   "metadata": {},
   "outputs": [
    {
     "name": "stdout",
     "output_type": "stream",
     "text": [
      "Enter the URI of the server: PYRO:obj_97ef1f6aba4e44d097e662112a27aca9@localhost:53144\n",
      "Enter the first string: hello\n",
      "Enter the second string: world\n",
      "Concatenated String: helloworld\n"
     ]
    }
   ],
   "source": [
    "import Pyro4\n",
    "\n",
    "def main():\n",
    "    uri = input(\"Enter the URI of the server: \")\n",
    "    str1 = input(\"Enter the first string: \")\n",
    "    str2 = input(\"Enter the second string: \")\n",
    "\n",
    "    concat_server = Pyro4.Proxy(uri)\n",
    "    concatenated_str = concat_server.concatenate_strings(str1, str2)\n",
    "    \n",
    "    print(\"Concatenated String:\", concatenated_str)\n",
    "\n",
    "if __name__ == \"__main__\":\n",
    "    main()"
   ]
  },
  {
   "cell_type": "code",
   "execution_count": null,
   "metadata": {},
   "outputs": [],
   "source": []
  }
 ],
 "metadata": {
  "kernelspec": {
   "display_name": "Python 3 (ipykernel)",
   "language": "python",
   "name": "python3"
  },
  "language_info": {
   "codemirror_mode": {
    "name": "ipython",
    "version": 3
   },
   "file_extension": ".py",
   "mimetype": "text/x-python",
   "name": "python",
   "nbconvert_exporter": "python",
   "pygments_lexer": "ipython3",
   "version": "3.11.3"
  }
 },
 "nbformat": 4,
 "nbformat_minor": 2
}
