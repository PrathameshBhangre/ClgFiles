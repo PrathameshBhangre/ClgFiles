{
 "cells": [
  {
   "cell_type": "code",
   "execution_count": 1,
   "metadata": {},
   "outputs": [
    {
     "name": "stdout",
     "output_type": "stream",
     "text": [
      "Requirement already satisfied: pyro4 in c:\\downloads\\python\\lib\\site-packages (4.82)\n",
      "Requirement already satisfied: serpent>=1.27 in c:\\downloads\\python\\lib\\site-packages (from pyro4) (1.41)\n",
      "Note: you may need to restart the kernel to use updated packages.\n"
     ]
    }
   ],
   "source": [
    "pip install pyro4"
   ]
  },
  {
   "cell_type": "code",
   "execution_count": 1,
   "metadata": {},
   "outputs": [
    {
     "name": "stdout",
     "output_type": "stream",
     "text": [
      "Server URI: PYRO:obj_3416631e59f043f7923eb5507c6c546b@localhost:62420\n"
     ]
    }
   ],
   "source": [
    "import Pyro4\n",
    "\n",
    "@Pyro4.expose\n",
    "class StringConcatenator(object):\n",
    "    def concatenate_strings(self, str1, str2):\n",
    "        return str1 + str2\n",
    "\n",
    "def main():\n",
    "    daemon = Pyro4.Daemon()\n",
    "    uri = daemon.register(StringConcatenator)\n",
    "    \n",
    "    print(\"Server URI:\", uri)\n",
    "    daemon.requestLoop()\n",
    "\n",
    "if __name__ == \"__main__\":\n",
    "    main()"
   ]
  },
  {
   "cell_type": "code",
   "execution_count": null,
   "metadata": {},
   "outputs": [],
   "source": []
  }
 ],
 "metadata": {
  "kernelspec": {
   "display_name": "Python 3 (ipykernel)",
   "language": "python",
   "name": "python3"
  },
  "language_info": {
   "codemirror_mode": {
    "name": "ipython",
    "version": 3
   },
   "file_extension": ".py",
   "mimetype": "text/x-python",
   "name": "python",
   "nbconvert_exporter": "python",
   "pygments_lexer": "ipython3",
   "version": "3.11.3"
  }
 },
 "nbformat": 4,
 "nbformat_minor": 2
}
